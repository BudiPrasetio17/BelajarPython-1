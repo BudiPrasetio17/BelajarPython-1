{
 "cells": [
  {
   "cell_type": "code",
   "execution_count": 3,
   "id": "3e27c9b6",
   "metadata": {},
   "outputs": [
    {
     "data": {
      "text/plain": [
       "Counter({'MasaAktifPrepaid': 109,\n",
       "         'CLS': 78,\n",
       "         'AktivasiPaket': 51,\n",
       "         'ChangeOwnership': 130,\n",
       "         'PembayaranTagihan': 31,\n",
       "         'ReaktivasiPrabayar': 109,\n",
       "         'GantiKartu': 103,\n",
       "         'GantiPricePlan': 73,\n",
       "         'PrepaidRegistration': 56,\n",
       "         'GantiPaket': 60})"
      ]
     },
     "execution_count": 3,
     "metadata": {},
     "output_type": "execute_result"
    }
   ],
   "source": [
    "#import lib Counter untuk menghitung kata\n",
    "from collections import Counter\n",
    "\n",
    "#buka file .txt\n",
    "f=open('sub_category.txt')\n",
    "\n",
    "#f.read()\n",
    "\n",
    "#membaca file .txt dan merubah enter di file menjadi ','\n",
    "kata = open('sub_category.txt').read().replace('\\n',',').replace(' ','')\n",
    "\n",
    "#memisahkan kata berdasarkan delimeter ','\n",
    "mapping_kata = kata.split(',')\n",
    "\n",
    "Counter(mapping_kata)\n"
   ]
  },
  {
   "cell_type": "code",
   "execution_count": null,
   "id": "7977bd2e",
   "metadata": {},
   "outputs": [],
   "source": []
  },
  {
   "cell_type": "code",
   "execution_count": null,
   "id": "647b35da",
   "metadata": {},
   "outputs": [],
   "source": []
  }
 ],
 "metadata": {
  "kernelspec": {
   "display_name": "Python 3 (ipykernel)",
   "language": "python",
   "name": "python3"
  },
  "language_info": {
   "codemirror_mode": {
    "name": "ipython",
    "version": 3
   },
   "file_extension": ".py",
   "mimetype": "text/x-python",
   "name": "python",
   "nbconvert_exporter": "python",
   "pygments_lexer": "ipython3",
   "version": "3.10.4"
  }
 },
 "nbformat": 4,
 "nbformat_minor": 5
}
