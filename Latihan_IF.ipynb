{
 "cells": [
  {
   "cell_type": "raw",
   "id": "e7556f78-f345-4909-9d94-4664796a9d27",
   "metadata": {},
   "source": [
    "num =- 4\n",
    "\n",
    "if (num>0):\n",
    "    print(num,\"adalah bilangan positif\")\n",
    "    print(\"bilangan sudah dicek\")"
   ]
  },
  {
   "cell_type": "code",
   "execution_count": null,
   "id": "1d80b470-5e58-4ca3-9c1c-0fcf62bdfc0c",
   "metadata": {},
   "outputs": [],
   "source": []
  },
  {
   "cell_type": "code",
   "execution_count": null,
   "id": "7f9e2a26-70a1-4183-a6e6-1c0cc4852eba",
   "metadata": {},
   "outputs": [],
   "source": []
  },
  {
   "cell_type": "code",
   "execution_count": null,
   "id": "4d003a96-2313-428e-8c88-ac105b6cb4ba",
   "metadata": {},
   "outputs": [],
   "source": []
  },
  {
   "cell_type": "code",
   "execution_count": null,
   "id": "05adabfe-3750-47d5-8eb9-1b9005190274",
   "metadata": {},
   "outputs": [],
   "source": []
  }
 ],
 "metadata": {
  "kernelspec": {
   "display_name": "Python 3 (ipykernel)",
   "language": "python",
   "name": "python3"
  },
  "language_info": {
   "codemirror_mode": {
    "name": "ipython",
    "version": 3
   },
   "file_extension": ".py",
   "mimetype": "text/x-python",
   "name": "python",
   "nbconvert_exporter": "python",
   "pygments_lexer": "ipython3",
   "version": "3.10.4"
  }
 },
 "nbformat": 4,
 "nbformat_minor": 5
}
